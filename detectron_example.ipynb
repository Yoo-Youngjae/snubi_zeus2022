{
 "cells": [
  {
   "cell_type": "code",
   "execution_count": 1,
   "metadata": {
    "collapsed": true,
    "pycharm": {
     "name": "#%%\n"
    }
   },
   "outputs": [
    {
     "name": "stdout",
     "output_type": "stream",
     "text": [
      "1.12.1+cu113\n",
      "11.3\n",
      "True\n"
     ]
    }
   ],
   "source": [
    "# Check torch install & CUDA available\n",
    "import torch, torchvision\n",
    "print(torch.__version__)\n",
    "print(torch.version.cuda)\n",
    "print(torch.cuda.is_available())"
   ]
  },
  {
   "cell_type": "code",
   "execution_count": 2,
   "outputs": [
    {
     "data": {
      "text/plain": "tensor([0.8888, 0.7044, 0.8088, 0.3793, 0.3387, 0.0615, 0.9637, 0.5962, 0.6682,\n        0.3836], device='cuda:0')"
     },
     "execution_count": 2,
     "metadata": {},
     "output_type": "execute_result"
    }
   ],
   "source": [
    "import torch\n",
    "torch.rand(10).to(\"cuda\")"
   ],
   "metadata": {
    "collapsed": false,
    "pycharm": {
     "name": "#%%\n"
    }
   }
  },
  {
   "cell_type": "code",
   "execution_count": 4,
   "outputs": [
    {
     "name": "stdout",
     "output_type": "stream",
     "text": [
      "4.6.0\n"
     ]
    }
   ],
   "source": [
    "# Check opencv install\n",
    "import cv2\n",
    "print(cv2.__version__)"
   ],
   "metadata": {
    "collapsed": false,
    "pycharm": {
     "name": "#%%\n"
    }
   }
  },
  {
   "cell_type": "code",
   "execution_count": 3,
   "outputs": [
    {
     "name": "stdout",
     "output_type": "stream",
     "text": [
      "/home/tidy/Documents/Detectron/detectron2\n"
     ]
    }
   ],
   "source": [
    "cd detectron2"
   ],
   "metadata": {
    "collapsed": false,
    "pycharm": {
     "name": "#%%\n"
    }
   }
  },
  {
   "cell_type": "code",
   "execution_count": 4,
   "outputs": [
    {
     "name": "stdout",
     "output_type": "stream",
     "text": [
      "\u001B[0m\u001B[01;34mconfigs\u001B[0m/   \u001B[01;34mdetectron2\u001B[0m/  \u001B[01;34mdocs\u001B[0m/               LICENSE       README.md  \u001B[01;34mtests\u001B[0m/\r\n",
      "\u001B[01;34mdatasets\u001B[0m/  \u001B[01;34mdev\u001B[0m/         GETTING_STARTED.md  MODEL_ZOO.md  setup.cfg  \u001B[01;34mtools\u001B[0m/\r\n",
      "\u001B[01;34mdemo\u001B[0m/      \u001B[01;34mdocker\u001B[0m/      INSTALL.md          \u001B[01;34mprojects\u001B[0m/     setup.py\r\n"
     ]
    }
   ],
   "source": [
    "ls"
   ],
   "metadata": {
    "collapsed": false,
    "pycharm": {
     "name": "#%%\n"
    }
   }
  },
  {
   "cell_type": "code",
   "execution_count": 11,
   "outputs": [
    {
     "name": "stdout",
     "output_type": "stream",
     "text": [
      "\u001B[32m[09/07 06:30:15 detectron2]: \u001B[0mArguments: Namespace(confidence_threshold=0.5, config_file='configs/COCO-Detection/faster_rcnn_R_50_FPN_3x.yaml', input=['../data/bicycle.jpg'], opts=['MODEL.WEIGHTS', '../models/COCO-Detection/faster_rcnn_R_50_FPN_3x/137849458/model_final_280758.pkl'], output='../output/bicycle_COCO-Detection.jpg', video_input=None, webcam=False)\r\n",
      "\u001B[32m[09/07 06:30:16 fvcore.common.checkpoint]: \u001B[0m[Checkpointer] Loading from ../models/COCO-Detection/faster_rcnn_R_50_FPN_3x/137849458/model_final_280758.pkl ...\r\n",
      "\u001B[32m[09/07 06:30:16 fvcore.common.checkpoint]: \u001B[0mReading a file from 'Detectron2 Model Zoo'\r\n",
      "  0%|                                                     | 0/1 [00:00<?, ?it/s]/home/tidy/miniconda/envs/Detectron/lib/python3.8/site-packages/torch/functional.py:478: UserWarning: torch.meshgrid: in an upcoming release, it will be required to pass the indexing argument. (Triggered internally at  ../aten/src/ATen/native/TensorShape.cpp:2894.)\r\n",
      "  return _VF.meshgrid(tensors, **kwargs)  # type: ignore[attr-defined]\r\n",
      "\u001B[32m[09/07 06:30:18 detectron2]: \u001B[0m../data/bicycle.jpg: detected 6 instances in 1.45s\r\n",
      "100%|█████████████████████████████████████████████| 1/1 [00:01<00:00,  1.60s/it]\r\n"
     ]
    }
   ],
   "source": [
    "# Target Detection : Faster R-CNN\n",
    "!python demo/demo.py\\\n",
    "    --config-file configs/COCO-Detection/faster_rcnn_R_50_FPN_3x.yaml\\\n",
    "    --input ../data/bicycle.jpg\\\n",
    "    --output ../output/bicycle_COCO-Detection.jpg\\\n",
    "    --confidence-threshold 0.5\\\n",
    "    --opts MODEL.WEIGHTS ../models/COCO-Detection/faster_rcnn_R_50_FPN_3x/137849458/model_final_280758.pkl"
   ],
   "metadata": {
    "collapsed": false,
    "pycharm": {
     "name": "#%%\n"
    }
   }
  },
  {
   "cell_type": "code",
   "execution_count": 9,
   "outputs": [
    {
     "name": "stdout",
     "output_type": "stream",
     "text": [
      "\u001B[32m[09/07 06:29:41 detectron2]: \u001B[0mArguments: Namespace(confidence_threshold=0.5, config_file='configs/COCO-InstanceSegmentation/mask_rcnn_R_50_FPN_3x.yaml', input=['../data/bicycle.jpg'], opts=['MODEL.WEIGHTS', '../models/COCO-InstanceSegmentation/mask_rcnn_R_50_FPN_3x/137849600/model_final_f10217.pkl'], output='../output/bicycle_COCO-InstanceSegmentation.jpg', video_input=None, webcam=False)\r\n",
      "\u001B[32m[09/07 06:29:42 fvcore.common.checkpoint]: \u001B[0m[Checkpointer] Loading from ../models/COCO-InstanceSegmentation/mask_rcnn_R_50_FPN_3x/137849600/model_final_f10217.pkl ...\r\n",
      "\u001B[32m[09/07 06:29:42 fvcore.common.checkpoint]: \u001B[0mReading a file from 'Detectron2 Model Zoo'\r\n",
      "  0%|                                                     | 0/1 [00:00<?, ?it/s]/home/tidy/miniconda/envs/Detectron/lib/python3.8/site-packages/torch/functional.py:478: UserWarning: torch.meshgrid: in an upcoming release, it will be required to pass the indexing argument. (Triggered internally at  ../aten/src/ATen/native/TensorShape.cpp:2894.)\r\n",
      "  return _VF.meshgrid(tensors, **kwargs)  # type: ignore[attr-defined]\r\n",
      "\u001B[32m[09/07 06:29:44 detectron2]: \u001B[0m../data/bicycle.jpg: detected 4 instances in 1.46s\r\n",
      "100%|█████████████████████████████████████████████| 1/1 [00:01<00:00,  1.61s/it]\r\n"
     ]
    }
   ],
   "source": [
    "# Instance Segmentation : Mask R-CNN\n",
    "!python demo/demo.py\\\n",
    "    --config-file configs/COCO-InstanceSegmentation/mask_rcnn_R_50_FPN_3x.yaml\\\n",
    "    --input ../data/bicycle.jpg\\\n",
    "    --output ../output/bicycle_COCO-InstanceSegmentation.jpg\\\n",
    "    --confidence-threshold 0.5\\\n",
    "    --opts MODEL.WEIGHTS ../models/COCO-InstanceSegmentation/mask_rcnn_R_50_FPN_3x/137849600/model_final_f10217.pkl"
   ],
   "metadata": {
    "collapsed": false,
    "pycharm": {
     "name": "#%%\n"
    }
   }
  },
  {
   "cell_type": "code",
   "execution_count": 10,
   "outputs": [
    {
     "name": "stdout",
     "output_type": "stream",
     "text": [
      "\u001B[32m[09/07 06:30:02 detectron2]: \u001B[0mArguments: Namespace(confidence_threshold=0.5, config_file='configs/COCO-Keypoints/keypoint_rcnn_R_50_FPN_3x.yaml', input=['../data/bicycle.jpg'], opts=['MODEL.WEIGHTS', '../models/COCO-Keypoints/keypoint_rcnn_R_50_FPN_3x/137849621/model_final_a6e10b.pkl'], output='../output/bicycle_COCO-Keypoints.jpg', video_input=None, webcam=False)\r\n",
      "\u001B[32m[09/07 06:30:04 fvcore.common.checkpoint]: \u001B[0m[Checkpointer] Loading from ../models/COCO-Keypoints/keypoint_rcnn_R_50_FPN_3x/137849621/model_final_a6e10b.pkl ...\r\n",
      "\u001B[32m[09/07 06:30:04 fvcore.common.checkpoint]: \u001B[0mReading a file from 'Detectron2 Model Zoo'\r\n",
      "  0%|                                                     | 0/1 [00:00<?, ?it/s]/home/tidy/miniconda/envs/Detectron/lib/python3.8/site-packages/torch/functional.py:478: UserWarning: torch.meshgrid: in an upcoming release, it will be required to pass the indexing argument. (Triggered internally at  ../aten/src/ATen/native/TensorShape.cpp:2894.)\r\n",
      "  return _VF.meshgrid(tensors, **kwargs)  # type: ignore[attr-defined]\r\n",
      "/home/tidy/Documents/Detectron/detectron2/detectron2/structures/keypoints.py:224: UserWarning: __floordiv__ is deprecated, and its behavior will change in a future version of pytorch. It currently rounds toward 0 (like the 'trunc' function NOT 'floor'). This results in incorrect rounding for negative values. To keep the current behavior, use torch.div(a, b, rounding_mode='trunc'), or for actual floor division, use torch.div(a, b, rounding_mode='floor').\r\n",
      "  y_int = (pos - x_int) // w\r\n",
      "\u001B[32m[09/07 06:30:05 detectron2]: \u001B[0m../data/bicycle.jpg: detected 3 instances in 1.47s\r\n",
      "100%|█████████████████████████████████████████████| 1/1 [00:01<00:00,  1.62s/it]\r\n"
     ]
    }
   ],
   "source": [
    "# Pose Estimation : Keypoint R-CNN\n",
    "!python demo/demo.py\\\n",
    "    --config-file configs/COCO-Keypoints/keypoint_rcnn_R_50_FPN_3x.yaml\\\n",
    "    --input ../data/bicycle.jpg\\\n",
    "    --output ../output/bicycle_COCO-Keypoints.jpg\\\n",
    "    --confidence-threshold 0.5\\\n",
    "    --opts MODEL.WEIGHTS ../models/COCO-Keypoints/keypoint_rcnn_R_50_FPN_3x/137849621/model_final_a6e10b.pkl"
   ],
   "metadata": {
    "collapsed": false,
    "pycharm": {
     "name": "#%%\n"
    }
   }
  },
  {
   "cell_type": "code",
   "execution_count": 12,
   "outputs": [
    {
     "name": "stdout",
     "output_type": "stream",
     "text": [
      "\u001B[32m[09/07 06:30:25 detectron2]: \u001B[0mArguments: Namespace(confidence_threshold=0.5, config_file='configs/COCO-PanopticSegmentation/panoptic_fpn_R_50_3x.yaml', input=['../data/bicycle.jpg'], opts=['MODEL.WEIGHTS', '../models/COCO-PanopticSegmentation/panoptic_fpn_R_50_3x/139514569/model_final_c10459.pkl'], output='../output/bicycle_COCO-PanopticSegmentation.jpg', video_input=None, webcam=False)\r\n",
      "\u001B[32m[09/07 06:30:26 fvcore.common.checkpoint]: \u001B[0m[Checkpointer] Loading from ../models/COCO-PanopticSegmentation/panoptic_fpn_R_50_3x/139514569/model_final_c10459.pkl ...\r\n",
      "\u001B[32m[09/07 06:30:26 fvcore.common.checkpoint]: \u001B[0mReading a file from 'Detectron2 Model Zoo'\r\n",
      "  0%|                                                     | 0/1 [00:00<?, ?it/s]/home/tidy/miniconda/envs/Detectron/lib/python3.8/site-packages/torch/functional.py:478: UserWarning: torch.meshgrid: in an upcoming release, it will be required to pass the indexing argument. (Triggered internally at  ../aten/src/ATen/native/TensorShape.cpp:2894.)\r\n",
      "  return _VF.meshgrid(tensors, **kwargs)  # type: ignore[attr-defined]\r\n",
      "\u001B[32m[09/07 06:30:28 detectron2]: \u001B[0m../data/bicycle.jpg: detected 6 instances in 1.67s\r\n",
      "100%|█████████████████████████████████████████████| 1/1 [00:02<00:00,  2.01s/it]\r\n"
     ]
    }
   ],
   "source": [
    "# Panoramic Segmentation : Panoptic FPN\n",
    "!python demo/demo.py\\\n",
    "    --config-file configs/COCO-PanopticSegmentation/panoptic_fpn_R_50_3x.yaml\\\n",
    "    --input ../data/bicycle.jpg\\\n",
    "    --output ../output/bicycle_COCO-PanopticSegmentation.jpg\\\n",
    "    --confidence-threshold 0.5\\\n",
    "    --opts MODEL.WEIGHTS ../models/COCO-PanopticSegmentation/panoptic_fpn_R_50_3x/139514569/model_final_c10459.pkl"
   ],
   "metadata": {
    "collapsed": false,
    "pycharm": {
     "name": "#%%\n"
    }
   }
  },
  {
   "cell_type": "markdown",
   "source": [
    "# WebCam Camera\n",
    "- demo.py : 136 line"
   ],
   "metadata": {
    "collapsed": false,
    "pycharm": {
     "name": "#%% md\n"
    }
   }
  },
  {
   "cell_type": "code",
   "execution_count": 7,
   "outputs": [
    {
     "name": "stdout",
     "output_type": "stream",
     "text": [
      "\u001B[32m[09/07 14:48:19 detectron2]: \u001B[0mArguments: Namespace(confidence_threshold=0.5, config_file='configs/COCO-Detection/faster_rcnn_R_50_FPN_3x.yaml', input=None, opts=['MODEL.WEIGHTS', '../models/COCO-Detection/faster_rcnn_R_50_FPN_3x/137849458/model_final_280758.pkl'], output=None, video_input=None, webcam=True)\r\n",
      "\u001B[32m[09/07 14:48:21 fvcore.common.checkpoint]: \u001B[0m[Checkpointer] Loading from ../models/COCO-Detection/faster_rcnn_R_50_FPN_3x/137849458/model_final_280758.pkl ...\r\n",
      "\u001B[32m[09/07 14:48:21 fvcore.common.checkpoint]: \u001B[0mReading a file from 'Detectron2 Model Zoo'\r\n",
      "0it [00:00, ?it/s]/home/tidy/miniconda/envs/Detectron/lib/python3.8/site-packages/torch/functional.py:478: UserWarning: torch.meshgrid: in an upcoming release, it will be required to pass the indexing argument. (Triggered internally at  ../aten/src/ATen/native/TensorShape.cpp:2894.)\r\n",
      "  return _VF.meshgrid(tensors, **kwargs)  # type: ignore[attr-defined]\r\n",
      "QObject::moveToThread: Current thread (0x5647c0635800) is not the object's thread (0x5647c038b000).\r\n",
      "Cannot move to target thread (0x5647c0635800)\r\n",
      "\r\n",
      "QObject::moveToThread: Current thread (0x5647c0635800) is not the object's thread (0x5647c038b000).\r\n",
      "Cannot move to target thread (0x5647c0635800)\r\n",
      "\r\n",
      "QObject::moveToThread: Current thread (0x5647c0635800) is not the object's thread (0x5647c038b000).\r\n",
      "Cannot move to target thread (0x5647c0635800)\r\n",
      "\r\n",
      "QObject::moveToThread: Current thread (0x5647c0635800) is not the object's thread (0x5647c038b000).\r\n",
      "Cannot move to target thread (0x5647c0635800)\r\n",
      "\r\n",
      "QObject::moveToThread: Current thread (0x5647c0635800) is not the object's thread (0x5647c038b000).\r\n",
      "Cannot move to target thread (0x5647c0635800)\r\n",
      "\r\n",
      "QObject::moveToThread: Current thread (0x5647c0635800) is not the object's thread (0x5647c038b000).\r\n",
      "Cannot move to target thread (0x5647c0635800)\r\n",
      "\r\n",
      "QObject::moveToThread: Current thread (0x5647c0635800) is not the object's thread (0x5647c038b000).\r\n",
      "Cannot move to target thread (0x5647c0635800)\r\n",
      "\r\n",
      "QObject::moveToThread: Current thread (0x5647c0635800) is not the object's thread (0x5647c038b000).\r\n",
      "Cannot move to target thread (0x5647c0635800)\r\n",
      "\r\n",
      "QObject::moveToThread: Current thread (0x5647c0635800) is not the object's thread (0x5647c038b000).\r\n",
      "Cannot move to target thread (0x5647c0635800)\r\n",
      "\r\n",
      "QObject::moveToThread: Current thread (0x5647c0635800) is not the object's thread (0x5647c038b000).\r\n",
      "Cannot move to target thread (0x5647c0635800)\r\n",
      "\r\n",
      "QObject::moveToThread: Current thread (0x5647c0635800) is not the object's thread (0x5647c038b000).\r\n",
      "Cannot move to target thread (0x5647c0635800)\r\n",
      "\r\n",
      "QObject::moveToThread: Current thread (0x5647c0635800) is not the object's thread (0x5647c038b000).\r\n",
      "Cannot move to target thread (0x5647c0635800)\r\n",
      "\r\n",
      "QObject::moveToThread: Current thread (0x5647c0635800) is not the object's thread (0x5647c038b000).\r\n",
      "Cannot move to target thread (0x5647c0635800)\r\n",
      "\r\n",
      "QObject::moveToThread: Current thread (0x5647c0635800) is not the object's thread (0x5647c038b000).\r\n",
      "Cannot move to target thread (0x5647c0635800)\r\n",
      "\r\n",
      "QObject::moveToThread: Current thread (0x5647c0635800) is not the object's thread (0x5647c038b000).\r\n",
      "Cannot move to target thread (0x5647c0635800)\r\n",
      "\r\n",
      "QObject::moveToThread: Current thread (0x5647c0635800) is not the object's thread (0x5647c038b000).\r\n",
      "Cannot move to target thread (0x5647c0635800)\r\n",
      "\r\n",
      "QObject::moveToThread: Current thread (0x5647c0635800) is not the object's thread (0x5647c038b000).\r\n",
      "Cannot move to target thread (0x5647c0635800)\r\n",
      "\r\n",
      "QObject::moveToThread: Current thread (0x5647c0635800) is not the object's thread (0x5647c038b000).\r\n",
      "Cannot move to target thread (0x5647c0635800)\r\n",
      "\r\n",
      "QObject::moveToThread: Current thread (0x5647c0635800) is not the object's thread (0x5647c038b000).\r\n",
      "Cannot move to target thread (0x5647c0635800)\r\n",
      "\r\n",
      "QObject::moveToThread: Current thread (0x5647c0635800) is not the object's thread (0x5647c038b000).\r\n",
      "Cannot move to target thread (0x5647c0635800)\r\n",
      "\r\n",
      "QObject::moveToThread: Current thread (0x5647c0635800) is not the object's thread (0x5647c038b000).\r\n",
      "Cannot move to target thread (0x5647c0635800)\r\n",
      "\r\n",
      "QObject::moveToThread: Current thread (0x5647c0635800) is not the object's thread (0x5647c038b000).\r\n",
      "Cannot move to target thread (0x5647c0635800)\r\n",
      "\r\n",
      "QObject::moveToThread: Current thread (0x5647c0635800) is not the object's thread (0x5647c038b000).\r\n",
      "Cannot move to target thread (0x5647c0635800)\r\n",
      "\r\n",
      "QObject::moveToThread: Current thread (0x5647c0635800) is not the object's thread (0x5647c038b000).\r\n",
      "Cannot move to target thread (0x5647c0635800)\r\n",
      "\r\n",
      "QObject::moveToThread: Current thread (0x5647c0635800) is not the object's thread (0x5647c038b000).\r\n",
      "Cannot move to target thread (0x5647c0635800)\r\n",
      "\r\n",
      "QObject::moveToThread: Current thread (0x5647c0635800) is not the object's thread (0x5647c038b000).\r\n",
      "Cannot move to target thread (0x5647c0635800)\r\n",
      "\r\n",
      "QObject::moveToThread: Current thread (0x5647c0635800) is not the object's thread (0x5647c038b000).\r\n",
      "Cannot move to target thread (0x5647c0635800)\r\n",
      "\r\n",
      "QObject::moveToThread: Current thread (0x5647c0635800) is not the object's thread (0x5647c038b000).\r\n",
      "Cannot move to target thread (0x5647c0635800)\r\n",
      "\r\n",
      "QObject::moveToThread: Current thread (0x5647c0635800) is not the object's thread (0x5647c038b000).\r\n",
      "Cannot move to target thread (0x5647c0635800)\r\n",
      "\r\n",
      "QObject::moveToThread: Current thread (0x5647c0635800) is not the object's thread (0x5647c038b000).\r\n",
      "Cannot move to target thread (0x5647c0635800)\r\n",
      "\r\n",
      "QObject::moveToThread: Current thread (0x5647c0635800) is not the object's thread (0x5647c038b000).\r\n",
      "Cannot move to target thread (0x5647c0635800)\r\n",
      "\r\n",
      "QObject::moveToThread: Current thread (0x5647c0635800) is not the object's thread (0x5647c038b000).\r\n",
      "Cannot move to target thread (0x5647c0635800)\r\n",
      "\r\n",
      "QObject::moveToThread: Current thread (0x5647c0635800) is not the object's thread (0x5647c038b000).\r\n",
      "Cannot move to target thread (0x5647c0635800)\r\n",
      "\r\n",
      "QObject::moveToThread: Current thread (0x5647c0635800) is not the object's thread (0x5647c038b000).\r\n",
      "Cannot move to target thread (0x5647c0635800)\r\n",
      "\r\n",
      "QObject::moveToThread: Current thread (0x5647c0635800) is not the object's thread (0x5647c038b000).\r\n",
      "Cannot move to target thread (0x5647c0635800)\r\n",
      "\r\n",
      "QObject::moveToThread: Current thread (0x5647c0635800) is not the object's thread (0x5647c038b000).\r\n",
      "Cannot move to target thread (0x5647c0635800)\r\n",
      "\r\n",
      "QObject::moveToThread: Current thread (0x5647c0635800) is not the object's thread (0x5647c038b000).\r\n",
      "Cannot move to target thread (0x5647c0635800)\r\n",
      "\r\n",
      "QObject::moveToThread: Current thread (0x5647c0635800) is not the object's thread (0x5647c038b000).\r\n",
      "Cannot move to target thread (0x5647c0635800)\r\n",
      "\r\n",
      "QObject::moveToThread: Current thread (0x5647c0635800) is not the object's thread (0x5647c038b000).\r\n",
      "Cannot move to target thread (0x5647c0635800)\r\n",
      "\r\n",
      "QObject::moveToThread: Current thread (0x5647c0635800) is not the object's thread (0x5647c038b000).\r\n",
      "Cannot move to target thread (0x5647c0635800)\r\n",
      "\r\n",
      "QObject::moveToThread: Current thread (0x5647c0635800) is not the object's thread (0x5647c038b000).\r\n",
      "Cannot move to target thread (0x5647c0635800)\r\n",
      "\r\n",
      "QObject::moveToThread: Current thread (0x5647c0635800) is not the object's thread (0x5647c038b000).\r\n",
      "Cannot move to target thread (0x5647c0635800)\r\n",
      "\r\n",
      "QObject::moveToThread: Current thread (0x5647c0635800) is not the object's thread (0x5647c038b000).\r\n",
      "Cannot move to target thread (0x5647c0635800)\r\n",
      "\r\n",
      "QObject::moveToThread: Current thread (0x5647c0635800) is not the object's thread (0x5647c038b000).\r\n",
      "Cannot move to target thread (0x5647c0635800)\r\n",
      "\r\n",
      "QObject::moveToThread: Current thread (0x5647c0635800) is not the object's thread (0x5647c038b000).\r\n",
      "Cannot move to target thread (0x5647c0635800)\r\n",
      "\r\n",
      "QObject::moveToThread: Current thread (0x5647c0635800) is not the object's thread (0x5647c038b000).\r\n",
      "Cannot move to target thread (0x5647c0635800)\r\n",
      "\r\n",
      "QObject::moveToThread: Current thread (0x5647c0635800) is not the object's thread (0x5647c038b000).\r\n",
      "Cannot move to target thread (0x5647c0635800)\r\n",
      "\r\n",
      "QObject::moveToThread: Current thread (0x5647c0635800) is not the object's thread (0x5647c038b000).\r\n",
      "Cannot move to target thread (0x5647c0635800)\r\n",
      "\r\n",
      "QObject::moveToThread: Current thread (0x5647c0635800) is not the object's thread (0x5647c038b000).\r\n",
      "Cannot move to target thread (0x5647c0635800)\r\n",
      "\r\n",
      "QObject::moveToThread: Current thread (0x5647c0635800) is not the object's thread (0x5647c038b000).\r\n",
      "Cannot move to target thread (0x5647c0635800)\r\n",
      "\r\n",
      "QObject::moveToThread: Current thread (0x5647c0635800) is not the object's thread (0x5647c038b000).\r\n",
      "Cannot move to target thread (0x5647c0635800)\r\n",
      "\r\n",
      "QObject::moveToThread: Current thread (0x5647c0635800) is not the object's thread (0x5647c038b000).\r\n",
      "Cannot move to target thread (0x5647c0635800)\r\n",
      "\r\n",
      "QObject::moveToThread: Current thread (0x5647c0635800) is not the object's thread (0x5647c038b000).\r\n",
      "Cannot move to target thread (0x5647c0635800)\r\n",
      "\r\n",
      "QObject::moveToThread: Current thread (0x5647c0635800) is not the object's thread (0x5647c038b000).\r\n",
      "Cannot move to target thread (0x5647c0635800)\r\n",
      "\r\n",
      "QObject::moveToThread: Current thread (0x5647c0635800) is not the object's thread (0x5647c038b000).\r\n",
      "Cannot move to target thread (0x5647c0635800)\r\n",
      "\r\n",
      "QObject::moveToThread: Current thread (0x5647c0635800) is not the object's thread (0x5647c038b000).\r\n",
      "Cannot move to target thread (0x5647c0635800)\r\n",
      "\r\n",
      "QObject::moveToThread: Current thread (0x5647c0635800) is not the object's thread (0x5647c038b000).\r\n",
      "Cannot move to target thread (0x5647c0635800)\r\n",
      "\r\n",
      "QObject::moveToThread: Current thread (0x5647c0635800) is not the object's thread (0x5647c038b000).\r\n",
      "Cannot move to target thread (0x5647c0635800)\r\n",
      "\r\n",
      "QObject::moveToThread: Current thread (0x5647c0635800) is not the object's thread (0x5647c038b000).\r\n",
      "Cannot move to target thread (0x5647c0635800)\r\n",
      "\r\n",
      "QObject::moveToThread: Current thread (0x5647c0635800) is not the object's thread (0x5647c038b000).\r\n",
      "Cannot move to target thread (0x5647c0635800)\r\n",
      "\r\n",
      "QObject::moveToThread: Current thread (0x5647c0635800) is not the object's thread (0x5647c038b000).\r\n",
      "Cannot move to target thread (0x5647c0635800)\r\n",
      "\r\n",
      "QObject::moveToThread: Current thread (0x5647c0635800) is not the object's thread (0x5647c038b000).\r\n",
      "Cannot move to target thread (0x5647c0635800)\r\n",
      "\r\n",
      "QObject::moveToThread: Current thread (0x5647c0635800) is not the object's thread (0x5647c038b000).\r\n",
      "Cannot move to target thread (0x5647c0635800)\r\n",
      "\r\n",
      "QObject::moveToThread: Current thread (0x5647c0635800) is not the object's thread (0x5647c038b000).\r\n",
      "Cannot move to target thread (0x5647c0635800)\r\n",
      "\r\n",
      "QObject::moveToThread: Current thread (0x5647c0635800) is not the object's thread (0x5647c038b000).\r\n",
      "Cannot move to target thread (0x5647c0635800)\r\n",
      "\r\n",
      "QObject::moveToThread: Current thread (0x5647c0635800) is not the object's thread (0x5647c038b000).\r\n",
      "Cannot move to target thread (0x5647c0635800)\r\n",
      "\r\n",
      "QObject::moveToThread: Current thread (0x5647c0635800) is not the object's thread (0x5647c038b000).\r\n",
      "Cannot move to target thread (0x5647c0635800)\r\n",
      "\r\n",
      "QObject::moveToThread: Current thread (0x5647c0635800) is not the object's thread (0x5647c038b000).\r\n",
      "Cannot move to target thread (0x5647c0635800)\r\n",
      "\r\n",
      "QObject::moveToThread: Current thread (0x5647c0635800) is not the object's thread (0x5647c038b000).\r\n",
      "Cannot move to target thread (0x5647c0635800)\r\n",
      "\r\n",
      "QObject::moveToThread: Current thread (0x5647c0635800) is not the object's thread (0x5647c038b000).\r\n",
      "Cannot move to target thread (0x5647c0635800)\r\n",
      "\r\n",
      "QObject::moveToThread: Current thread (0x5647c0635800) is not the object's thread (0x5647c038b000).\r\n",
      "Cannot move to target thread (0x5647c0635800)\r\n",
      "\r\n",
      "QObject::moveToThread: Current thread (0x5647c0635800) is not the object's thread (0x5647c038b000).\r\n",
      "Cannot move to target thread (0x5647c0635800)\r\n",
      "\r\n",
      "QObject::moveToThread: Current thread (0x5647c0635800) is not the object's thread (0x5647c038b000).\r\n",
      "Cannot move to target thread (0x5647c0635800)\r\n",
      "\r\n",
      "QObject::moveToThread: Current thread (0x5647c0635800) is not the object's thread (0x5647c038b000).\r\n",
      "Cannot move to target thread (0x5647c0635800)\r\n",
      "\r\n",
      "QObject::moveToThread: Current thread (0x5647c0635800) is not the object's thread (0x5647c038b000).\r\n",
      "Cannot move to target thread (0x5647c0635800)\r\n",
      "\r\n",
      "QObject::moveToThread: Current thread (0x5647c0635800) is not the object's thread (0x5647c038b000).\r\n",
      "Cannot move to target thread (0x5647c0635800)\r\n",
      "\r\n",
      "QObject::moveToThread: Current thread (0x5647c0635800) is not the object's thread (0x5647c038b000).\r\n",
      "Cannot move to target thread (0x5647c0635800)\r\n",
      "\r\n",
      "QObject::moveToThread: Current thread (0x5647c0635800) is not the object's thread (0x5647c038b000).\r\n",
      "Cannot move to target thread (0x5647c0635800)\r\n",
      "\r\n",
      "QObject::moveToThread: Current thread (0x5647c0635800) is not the object's thread (0x5647c038b000).\r\n",
      "Cannot move to target thread (0x5647c0635800)\r\n",
      "\r\n",
      "QObject::moveToThread: Current thread (0x5647c0635800) is not the object's thread (0x5647c038b000).\r\n",
      "Cannot move to target thread (0x5647c0635800)\r\n",
      "\r\n",
      "QObject::moveToThread: Current thread (0x5647c0635800) is not the object's thread (0x5647c038b000).\r\n",
      "Cannot move to target thread (0x5647c0635800)\r\n",
      "\r\n",
      "QObject::moveToThread: Current thread (0x5647c0635800) is not the object's thread (0x5647c038b000).\r\n",
      "Cannot move to target thread (0x5647c0635800)\r\n",
      "\r\n",
      "QObject::moveToThread: Current thread (0x5647c0635800) is not the object's thread (0x5647c038b000).\r\n",
      "Cannot move to target thread (0x5647c0635800)\r\n",
      "\r\n",
      "QObject::moveToThread: Current thread (0x5647c0635800) is not the object's thread (0x5647c038b000).\r\n",
      "Cannot move to target thread (0x5647c0635800)\r\n",
      "\r\n",
      "QObject::moveToThread: Current thread (0x5647c0635800) is not the object's thread (0x5647c038b000).\r\n",
      "Cannot move to target thread (0x5647c0635800)\r\n",
      "\r\n",
      "QObject::moveToThread: Current thread (0x5647c0635800) is not the object's thread (0x5647c038b000).\r\n",
      "Cannot move to target thread (0x5647c0635800)\r\n",
      "\r\n",
      "QObject::moveToThread: Current thread (0x5647c0635800) is not the object's thread (0x5647c038b000).\r\n",
      "Cannot move to target thread (0x5647c0635800)\r\n",
      "\r\n",
      "QObject::moveToThread: Current thread (0x5647c0635800) is not the object's thread (0x5647c038b000).\r\n",
      "Cannot move to target thread (0x5647c0635800)\r\n",
      "\r\n",
      "QObject::moveToThread: Current thread (0x5647c0635800) is not the object's thread (0x5647c038b000).\r\n",
      "Cannot move to target thread (0x5647c0635800)\r\n",
      "\r\n",
      "QObject::moveToThread: Current thread (0x5647c0635800) is not the object's thread (0x5647c038b000).\r\n",
      "Cannot move to target thread (0x5647c0635800)\r\n",
      "\r\n",
      "QObject::moveToThread: Current thread (0x5647c0635800) is not the object's thread (0x5647c038b000).\r\n",
      "Cannot move to target thread (0x5647c0635800)\r\n",
      "\r\n",
      "QObject::moveToThread: Current thread (0x5647c0635800) is not the object's thread (0x5647c038b000).\r\n",
      "Cannot move to target thread (0x5647c0635800)\r\n",
      "\r\n",
      "QObject::moveToThread: Current thread (0x5647c0635800) is not the object's thread (0x5647c038b000).\r\n",
      "Cannot move to target thread (0x5647c0635800)\r\n",
      "\r\n",
      "QObject::moveToThread: Current thread (0x5647c0635800) is not the object's thread (0x5647c038b000).\r\n",
      "Cannot move to target thread (0x5647c0635800)\r\n",
      "\r\n",
      "QObject::moveToThread: Current thread (0x5647c0635800) is not the object's thread (0x5647c038b000).\r\n",
      "Cannot move to target thread (0x5647c0635800)\r\n",
      "\r\n",
      "QObject::moveToThread: Current thread (0x5647c0635800) is not the object's thread (0x5647c038b000).\r\n",
      "Cannot move to target thread (0x5647c0635800)\r\n",
      "\r\n",
      "QObject::moveToThread: Current thread (0x5647c0635800) is not the object's thread (0x5647c038b000).\r\n",
      "Cannot move to target thread (0x5647c0635800)\r\n",
      "\r\n",
      "QObject::moveToThread: Current thread (0x5647c0635800) is not the object's thread (0x5647c038b000).\r\n",
      "Cannot move to target thread (0x5647c0635800)\r\n",
      "\r\n",
      "QObject::moveToThread: Current thread (0x5647c0635800) is not the object's thread (0x5647c038b000).\r\n",
      "Cannot move to target thread (0x5647c0635800)\r\n",
      "\r\n",
      "QObject::moveToThread: Current thread (0x5647c0635800) is not the object's thread (0x5647c038b000).\r\n",
      "Cannot move to target thread (0x5647c0635800)\r\n",
      "\r\n",
      "QObject::moveToThread: Current thread (0x5647c0635800) is not the object's thread (0x5647c038b000).\r\n",
      "Cannot move to target thread (0x5647c0635800)\r\n",
      "\r\n",
      "QObject::moveToThread: Current thread (0x5647c0635800) is not the object's thread (0x5647c038b000).\r\n",
      "Cannot move to target thread (0x5647c0635800)\r\n",
      "\r\n",
      "QObject::moveToThread: Current thread (0x5647c0635800) is not the object's thread (0x5647c038b000).\r\n",
      "Cannot move to target thread (0x5647c0635800)\r\n",
      "\r\n",
      "QObject::moveToThread: Current thread (0x5647c0635800) is not the object's thread (0x5647c038b000).\r\n",
      "Cannot move to target thread (0x5647c0635800)\r\n",
      "\r\n",
      "QObject::moveToThread: Current thread (0x5647c0635800) is not the object's thread (0x5647c038b000).\r\n",
      "Cannot move to target thread (0x5647c0635800)\r\n",
      "\r\n",
      "QObject::moveToThread: Current thread (0x5647c0635800) is not the object's thread (0x5647c038b000).\r\n",
      "Cannot move to target thread (0x5647c0635800)\r\n",
      "\r\n",
      "QObject::moveToThread: Current thread (0x5647c0635800) is not the object's thread (0x5647c038b000).\r\n",
      "Cannot move to target thread (0x5647c0635800)\r\n",
      "\r\n",
      "QObject::moveToThread: Current thread (0x5647c0635800) is not the object's thread (0x5647c038b000).\r\n",
      "Cannot move to target thread (0x5647c0635800)\r\n",
      "\r\n",
      "QObject::moveToThread: Current thread (0x5647c0635800) is not the object's thread (0x5647c038b000).\r\n",
      "Cannot move to target thread (0x5647c0635800)\r\n",
      "\r\n",
      "QObject::moveToThread: Current thread (0x5647c0635800) is not the object's thread (0x5647c038b000).\r\n",
      "Cannot move to target thread (0x5647c0635800)\r\n",
      "\r\n",
      "QObject::moveToThread: Current thread (0x5647c0635800) is not the object's thread (0x5647c038b000).\r\n",
      "Cannot move to target thread (0x5647c0635800)\r\n",
      "\r\n",
      "QObject::moveToThread: Current thread (0x5647c0635800) is not the object's thread (0x5647c038b000).\r\n",
      "Cannot move to target thread (0x5647c0635800)\r\n",
      "\r\n",
      "QObject::moveToThread: Current thread (0x5647c0635800) is not the object's thread (0x5647c038b000).\r\n",
      "Cannot move to target thread (0x5647c0635800)\r\n",
      "\r\n",
      "QObject::moveToThread: Current thread (0x5647c0635800) is not the object's thread (0x5647c038b000).\r\n",
      "Cannot move to target thread (0x5647c0635800)\r\n",
      "\r\n",
      "QObject::moveToThread: Current thread (0x5647c0635800) is not the object's thread (0x5647c038b000).\r\n",
      "Cannot move to target thread (0x5647c0635800)\r\n",
      "\r\n",
      "QObject::moveToThread: Current thread (0x5647c0635800) is not the object's thread (0x5647c038b000).\r\n",
      "Cannot move to target thread (0x5647c0635800)\r\n",
      "\r\n",
      "QObject::moveToThread: Current thread (0x5647c0635800) is not the object's thread (0x5647c038b000).\r\n",
      "Cannot move to target thread (0x5647c0635800)\r\n",
      "\r\n",
      "QObject::moveToThread: Current thread (0x5647c0635800) is not the object's thread (0x5647c038b000).\r\n",
      "Cannot move to target thread (0x5647c0635800)\r\n",
      "\r\n",
      "QObject::moveToThread: Current thread (0x5647c0635800) is not the object's thread (0x5647c038b000).\r\n",
      "Cannot move to target thread (0x5647c0635800)\r\n",
      "\r\n",
      "QObject::moveToThread: Current thread (0x5647c0635800) is not the object's thread (0x5647c038b000).\r\n",
      "Cannot move to target thread (0x5647c0635800)\r\n",
      "\r\n",
      "QObject::moveToThread: Current thread (0x5647c0635800) is not the object's thread (0x5647c038b000).\r\n",
      "Cannot move to target thread (0x5647c0635800)\r\n",
      "\r\n",
      "QObject::moveToThread: Current thread (0x5647c0635800) is not the object's thread (0x5647c038b000).\r\n",
      "Cannot move to target thread (0x5647c0635800)\r\n",
      "\r\n",
      "QObject::moveToThread: Current thread (0x5647c0635800) is not the object's thread (0x5647c038b000).\r\n",
      "Cannot move to target thread (0x5647c0635800)\r\n",
      "\r\n",
      "QObject::moveToThread: Current thread (0x5647c0635800) is not the object's thread (0x5647c038b000).\r\n",
      "Cannot move to target thread (0x5647c0635800)\r\n",
      "\r\n",
      "QObject::moveToThread: Current thread (0x5647c0635800) is not the object's thread (0x5647c038b000).\r\n",
      "Cannot move to target thread (0x5647c0635800)\r\n",
      "\r\n",
      "QObject::moveToThread: Current thread (0x5647c0635800) is not the object's thread (0x5647c038b000).\r\n",
      "Cannot move to target thread (0x5647c0635800)\r\n",
      "\r\n",
      "QObject::moveToThread: Current thread (0x5647c0635800) is not the object's thread (0x5647c038b000).\r\n",
      "Cannot move to target thread (0x5647c0635800)\r\n",
      "\r\n",
      "QObject::moveToThread: Current thread (0x5647c0635800) is not the object's thread (0x5647c038b000).\r\n",
      "Cannot move to target thread (0x5647c0635800)\r\n",
      "\r\n",
      "QObject::moveToThread: Current thread (0x5647c0635800) is not the object's thread (0x5647c038b000).\r\n",
      "Cannot move to target thread (0x5647c0635800)\r\n",
      "\r\n",
      "QObject::moveToThread: Current thread (0x5647c0635800) is not the object's thread (0x5647c038b000).\r\n",
      "Cannot move to target thread (0x5647c0635800)\r\n",
      "\r\n",
      "QObject::moveToThread: Current thread (0x5647c0635800) is not the object's thread (0x5647c038b000).\r\n",
      "Cannot move to target thread (0x5647c0635800)\r\n",
      "\r\n",
      "QObject::moveToThread: Current thread (0x5647c0635800) is not the object's thread (0x5647c038b000).\r\n",
      "Cannot move to target thread (0x5647c0635800)\r\n",
      "\r\n",
      "QObject::moveToThread: Current thread (0x5647c0635800) is not the object's thread (0x5647c038b000).\r\n",
      "Cannot move to target thread (0x5647c0635800)\r\n",
      "\r\n",
      "QObject::moveToThread: Current thread (0x5647c0635800) is not the object's thread (0x5647c038b000).\r\n",
      "Cannot move to target thread (0x5647c0635800)\r\n",
      "\r\n",
      "QObject::moveToThread: Current thread (0x5647c0635800) is not the object's thread (0x5647c038b000).\r\n",
      "Cannot move to target thread (0x5647c0635800)\r\n",
      "\r\n",
      "QObject::moveToThread: Current thread (0x5647c0635800) is not the object's thread (0x5647c038b000).\r\n",
      "Cannot move to target thread (0x5647c0635800)\r\n",
      "\r\n",
      "QObject::moveToThread: Current thread (0x5647c0635800) is not the object's thread (0x5647c038b000).\r\n",
      "Cannot move to target thread (0x5647c0635800)\r\n",
      "\r\n",
      "QObject::moveToThread: Current thread (0x5647c0635800) is not the object's thread (0x5647c038b000).\r\n",
      "Cannot move to target thread (0x5647c0635800)\r\n",
      "\r\n",
      "QObject::moveToThread: Current thread (0x5647c0635800) is not the object's thread (0x5647c038b000).\r\n",
      "Cannot move to target thread (0x5647c0635800)\r\n",
      "\r\n",
      "QObject::moveToThread: Current thread (0x5647c0635800) is not the object's thread (0x5647c038b000).\r\n",
      "Cannot move to target thread (0x5647c0635800)\r\n",
      "\r\n",
      "QObject::moveToThread: Current thread (0x5647c0635800) is not the object's thread (0x5647c038b000).\r\n",
      "Cannot move to target thread (0x5647c0635800)\r\n",
      "\r\n",
      "QObject::moveToThread: Current thread (0x5647c0635800) is not the object's thread (0x5647c038b000).\r\n",
      "Cannot move to target thread (0x5647c0635800)\r\n",
      "\r\n",
      "QObject::moveToThread: Current thread (0x5647c0635800) is not the object's thread (0x5647c038b000).\r\n",
      "Cannot move to target thread (0x5647c0635800)\r\n",
      "\r\n",
      "QObject::moveToThread: Current thread (0x5647c0635800) is not the object's thread (0x5647c038b000).\r\n",
      "Cannot move to target thread (0x5647c0635800)\r\n",
      "\r\n",
      "170it [00:22,  8.10it/s]^C\r\n",
      "170it [00:22,  7.56it/s]\r\n",
      "Traceback (most recent call last):\r\n",
      "  File \"demo/demo.py\", line 142, in <module>\r\n",
      "    for vis in tqdm.tqdm(demo.run_on_video(cam)):\r\n",
      "  File \"/home/tidy/miniconda/envs/Detectron/lib/python3.8/site-packages/tqdm/std.py\", line 1195, in __iter__\r\n",
      "    for obj in iterable:\r\n",
      "  File \"/home/tidy/Documents/Detectron/detectron2/demo/predictor.py\", line 129, in run_on_video\r\n",
      "    yield process_predictions(frame, self.predictor(frame))\r\n",
      "  File \"/home/tidy/Documents/Detectron/detectron2/detectron2/engine/defaults.py\", line 317, in __call__\r\n",
      "    predictions = self.model([inputs])[0]\r\n",
      "  File \"/home/tidy/miniconda/envs/Detectron/lib/python3.8/site-packages/torch/nn/modules/module.py\", line 1130, in _call_impl\r\n",
      "    return forward_call(*input, **kwargs)\r\n",
      "  File \"/home/tidy/Documents/Detectron/detectron2/detectron2/modeling/meta_arch/rcnn.py\", line 150, in forward\r\n",
      "    return self.inference(batched_inputs)\r\n",
      "  File \"/home/tidy/Documents/Detectron/detectron2/detectron2/modeling/meta_arch/rcnn.py\", line 204, in inference\r\n",
      "    features = self.backbone(images.tensor)\r\n",
      "  File \"/home/tidy/miniconda/envs/Detectron/lib/python3.8/site-packages/torch/nn/modules/module.py\", line 1130, in _call_impl\r\n",
      "    return forward_call(*input, **kwargs)\r\n",
      "  File \"/home/tidy/Documents/Detectron/detectron2/detectron2/modeling/backbone/fpn.py\", line 139, in forward\r\n",
      "    bottom_up_features = self.bottom_up(x)\r\n",
      "  File \"/home/tidy/miniconda/envs/Detectron/lib/python3.8/site-packages/torch/nn/modules/module.py\", line 1130, in _call_impl\r\n",
      "    return forward_call(*input, **kwargs)\r\n",
      "  File \"/home/tidy/Documents/Detectron/detectron2/detectron2/modeling/backbone/resnet.py\", line 449, in forward\r\n",
      "    x = stage(x)\r\n",
      "  File \"/home/tidy/miniconda/envs/Detectron/lib/python3.8/site-packages/torch/nn/modules/module.py\", line 1130, in _call_impl\r\n",
      "    return forward_call(*input, **kwargs)\r\n",
      "  File \"/home/tidy/miniconda/envs/Detectron/lib/python3.8/site-packages/torch/nn/modules/container.py\", line 139, in forward\r\n",
      "    input = module(input)\r\n",
      "  File \"/home/tidy/miniconda/envs/Detectron/lib/python3.8/site-packages/torch/nn/modules/module.py\", line 1130, in _call_impl\r\n",
      "    return forward_call(*input, **kwargs)\r\n",
      "  File \"/home/tidy/Documents/Detectron/detectron2/detectron2/modeling/backbone/resnet.py\", line 195, in forward\r\n",
      "    out = self.conv1(x)\r\n",
      "  File \"/home/tidy/miniconda/envs/Detectron/lib/python3.8/site-packages/torch/nn/modules/module.py\", line 1130, in _call_impl\r\n",
      "    return forward_call(*input, **kwargs)\r\n",
      "  File \"/home/tidy/Documents/Detectron/detectron2/detectron2/layers/wrappers.py\", line 117, in forward\r\n",
      "    x = self.norm(x)\r\n",
      "  File \"/home/tidy/miniconda/envs/Detectron/lib/python3.8/site-packages/torch/nn/modules/module.py\", line 1130, in _call_impl\r\n",
      "    return forward_call(*input, **kwargs)\r\n",
      "  File \"/home/tidy/Documents/Detectron/detectron2/detectron2/layers/batch_norm.py\", line 57, in forward\r\n",
      "    return F.batch_norm(\r\n",
      "  File \"/home/tidy/miniconda/envs/Detectron/lib/python3.8/site-packages/torch/nn/functional.py\", line 2438, in batch_norm\r\n",
      "    return torch.batch_norm(\r\n",
      "KeyboardInterrupt\r\n"
     ]
    }
   ],
   "source": [
    "!python demo/demo.py\\\n",
    "    --config-file configs/COCO-Detection/faster_rcnn_R_50_FPN_3x.yaml\\\n",
    "    --webcam\\\n",
    "    --confidence-threshold 0.5\\\n",
    "    --opts MODEL.WEIGHTS ../models/COCO-Detection/faster_rcnn_R_50_FPN_3x/137849458/model_final_280758.pkl"
   ],
   "metadata": {
    "collapsed": false,
    "pycharm": {
     "name": "#%%\n"
    }
   }
  },
  {
   "cell_type": "code",
   "execution_count": 8,
   "outputs": [
    {
     "name": "stdout",
     "output_type": "stream",
     "text": [
      "\u001B[32m[09/07 15:49:53 detectron2]: \u001B[0mArguments: Namespace(confidence_threshold=0.5, config_file='configs/COCO-InstanceSegmentation/mask_rcnn_R_50_FPN_3x.yaml', input=None, opts=['MODEL.WEIGHTS', '../models/COCO-InstanceSegmentation/mask_rcnn_R_50_FPN_3x/137849600/model_final_f10217.pkl'], output=None, video_input=None, webcam=True)\r\n",
      "\u001B[32m[09/07 15:49:55 fvcore.common.checkpoint]: \u001B[0m[Checkpointer] Loading from ../models/COCO-InstanceSegmentation/mask_rcnn_R_50_FPN_3x/137849600/model_final_f10217.pkl ...\r\n",
      "\u001B[32m[09/07 15:49:55 fvcore.common.checkpoint]: \u001B[0mReading a file from 'Detectron2 Model Zoo'\r\n",
      "[ WARN:0@2.818] global /io/opencv/modules/videoio/src/cap_v4l.cpp (902) open VIDEOIO(V4L2:/dev/video7): can't open camera by index\r\n",
      "0it [00:00, ?it/s]\r\n"
     ]
    }
   ],
   "source": [
    "# Instance Segmentation : Mask R-CNN\n",
    "!python demo/demo.py\\\n",
    "    --config-file configs/COCO-InstanceSegmentation/mask_rcnn_R_50_FPN_3x.yaml\\\n",
    "    --webcam\\\n",
    "    --confidence-threshold 0.5\\\n",
    "    --opts MODEL.WEIGHTS ../models/COCO-InstanceSegmentation/mask_rcnn_R_50_FPN_3x/137849600/model_final_f10217.pkl"
   ],
   "metadata": {
    "collapsed": false,
    "pycharm": {
     "name": "#%%\n"
    }
   }
  },
  {
   "cell_type": "code",
   "execution_count": null,
   "outputs": [],
   "source": [],
   "metadata": {
    "collapsed": false,
    "pycharm": {
     "name": "#%%\n"
    }
   }
  }
 ],
 "metadata": {
  "kernelspec": {
   "display_name": "Python 3",
   "language": "python",
   "name": "python3"
  },
  "language_info": {
   "codemirror_mode": {
    "name": "ipython",
    "version": 2
   },
   "file_extension": ".py",
   "mimetype": "text/x-python",
   "name": "python",
   "nbconvert_exporter": "python",
   "pygments_lexer": "ipython2",
   "version": "2.7.6"
  }
 },
 "nbformat": 4,
 "nbformat_minor": 0
}