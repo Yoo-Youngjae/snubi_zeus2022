{
 "cells": [
  {
   "cell_type": "code",
   "execution_count": 1,
   "metadata": {},
   "outputs": [],
   "source": [
    "import torch\n",
    "import torch.nn as nn\n",
    "import torchvision.models as models\n",
    "import torchvision.transforms as transforms\n",
    "from torch.autograd import Variable\n",
    "from PIL import Image\n",
    "\n",
    "# Load the pretrained model\n",
    "model = models.resnet18(pretrained=True)\n",
    "\n",
    "# Use the model object to select the desired layer\n",
    "layer = model._modules.get('avgpool')\n",
    "\n",
    "# Set model to evaluation mode\n",
    "model.eval()\n",
    "\n",
    "# Image transforms\n",
    "scaler = transforms.Resize((224, 224))\n",
    "normalize = transforms.Normalize(mean=[0.485, 0.456, 0.406], std=[0.229, 0.224, 0.225])\n",
    "to_tensor = transforms.ToTensor()\n",
    "\n",
    "def get_vector(image_name):\n",
    "    # 1. Load the image with Pillow library\n",
    "    img = Image.open(image_name)\n",
    "    # 2. Create a PyTorch Variable with the transformed image\n",
    "    t_img = Variable(normalize(to_tensor(scaler(img))).unsqueeze(0))\n",
    "    # 3. Create a vector of zeros that will hold our feature vector\n",
    "    #    The 'avgpool' layer has an output size of 512\n",
    "    my_embedding = torch.zeros(512)\n",
    "    # 4. Define a function that will copy the output of a layer\n",
    "    def copy_data(m, i, o):\n",
    "        my_embedding.copy_(o.data.reshape(o.data.size(1)))\n",
    "    # 5. Attach that function to our selected layer\n",
    "    h = layer.register_forward_hook(copy_data)\n",
    "    # 6. Run the model on our transformed image\n",
    "    model(t_img)\n",
    "    # 7. Detach our copy function from the layer\n",
    "    h.remove()\n",
    "    # 8. Return the feature vector\n",
    "    return my_embedding.numpy()"
   ]
  },
  {
   "cell_type": "code",
   "execution_count": 59,
   "metadata": {},
   "outputs": [],
   "source": [
    "import matplotlib.pyplot as plt\n",
    "import numpy as np\n",
    "import torch\n",
    "from matplotlib import cm\n",
    "from sklearn.decomposition import PCA\n",
    "from sklearn.manifold import TSNE\n",
    "from torchvision import transforms"
   ]
  },
  {
   "cell_type": "code",
   "execution_count": 58,
   "metadata": {},
   "outputs": [
    {
     "name": "stdout",
     "output_type": "stream",
     "text": [
      "(151, 512)\n"
     ]
    }
   ],
   "source": [
    "image_feature = np.array([get_vector(image_name=\"D:\\python files\\CNN\\CNN_Fruit_Class/train\\Apple/0_100.jpg\")])\n",
    "fruit_name = [\"Apple\", 'Banana', 'Orange']\n",
    "for f in fruit_name:\n",
    "    for i in range(200, 250):\n",
    "        image_feature = np.append(image_feature, np.array([get_vector(image_name=\"D:\\python files\\CNN\\CNN_Fruit_Class/train/\"+f+\"/\"+str(i)+\"_100.jpg\")]), axis=0)\n",
    "print(image_feature.shape)"
   ]
  },
  {
   "cell_type": "code",
   "execution_count": 84,
   "metadata": {},
   "outputs": [
    {
     "data": {
      "text/plain": [
       "array([ True,  True,  True,  True,  True,  True,  True,  True,  True,\n",
       "        True,  True,  True,  True,  True,  True,  True,  True,  True,\n",
       "        True,  True,  True,  True,  True,  True,  True,  True,  True,\n",
       "        True,  True,  True,  True,  True,  True,  True,  True,  True,\n",
       "        True,  True,  True,  True,  True,  True,  True,  True,  True,\n",
       "        True,  True,  True,  True,  True])"
      ]
     },
     "execution_count": 84,
     "metadata": {},
     "output_type": "execute_result"
    }
   ],
   "source": [
    "indices = test_predictions==2\n",
    "indices[100:150]"
   ]
  },
  {
   "cell_type": "code",
   "execution_count": 89,
   "metadata": {},
   "outputs": [
    {
     "name": "stdout",
     "output_type": "stream",
     "text": [
      "(151, 512)\n",
      "[t-SNE] Computing 91 nearest neighbors...\n",
      "[t-SNE] Indexed 151 samples in 0.000s...\n",
      "[t-SNE] Computed neighbors for 151 samples in 0.004s...\n",
      "[t-SNE] Computed conditional probabilities for sample 151 / 151\n",
      "[t-SNE] Mean sigma: 3.114948\n",
      "[t-SNE] KL divergence after 250 iterations with early exaggeration: 47.272369\n",
      "[t-SNE] KL divergence after 1000 iterations: 0.032955\n",
      "(151,)\n"
     ]
    },
    {
     "data": {
      "image/png": "[encoded data removed]",
      "text/plain": [
       "<Figure size 576x576 with 1 Axes>"
      ]
     },
     "metadata": {
      "needs_background": "light"
     },
     "output_type": "display_data"
    }
   ],
   "source": [
    "#Create a two dimensional t-SNE projection of the embeddings\n",
    "#image_feature.resize(1, 512)\n",
    "print(image_feature.shape)\n",
    "tsne = TSNE(2, verbose=1)\n",
    "tsne_proj = tsne.fit_transform(image_feature)\n",
    "#Plot those points as a scatter plot and label them based on the pred labels\n",
    "cmap = cm.get_cmap('tab20')\n",
    "fig, ax = plt.subplots(figsize=(8,8))\n",
    "\n",
    "num_categories = 3\n",
    "test_predictions = [0]\n",
    "test_predictions = test_predictions+ [x//50 for x in range(150)]\n",
    "test_predictions = np.array(test_predictions)\n",
    "\n",
    "for lab in range(num_categories):\n",
    "    indices = test_predictions==lab\n",
    "    ax.scatter(tsne_proj[indices,0],tsne_proj[indices,1], c=np.array(cmap(lab)).reshape(1,4), label = lab ,alpha=0.5)\n",
    "# for i in range(151):\n",
    "#     ax.scatter(tsne_proj[i,0],tsne_proj[i,1])\n",
    "ax.legend(fontsize='large', markerscale=2)\n",
    "#plt.xlim[-30,30]\n",
    "#plt.ylim[-30,30]\n",
    "plt.show()"
   ]
  },
  {
   "cell_type": "code",
   "execution_count": 95,
   "metadata": {},
   "outputs": [
    {
     "name": "stdout",
     "output_type": "stream",
     "text": [
      "이미지 Apple과 이미지 Banana의 유사도 : 24.97896\n",
      "이미지 Apple과 이미지 Orange의 유사도 : 14.124025\n",
      "이미지 Banana과 이미지 Orange의 유사도 : 23.62491\n",
      "이미지 0과 이미지0의 유사도:  0.0\n",
      "이미지 0과 이미지3의 유사도:  8.933057\n",
      "이미지 0과 이미지6의 유사도:  9.452997\n",
      "이미지 0과 이미지9의 유사도:  8.844806\n",
      "이미지 0과 이미지12의 유사도:  9.390461\n",
      "이미지 0과 이미지15의 유사도:  8.515563\n",
      "이미지 0과 이미지18의 유사도:  8.060381\n",
      "이미지 0과 이미지21의 유사도:  9.663267\n",
      "이미지 0과 이미지24의 유사도:  9.8217535\n",
      "이미지 0과 이미지27의 유사도:  9.437764\n",
      "이미지 0과 이미지30의 유사도:  8.668101\n",
      "이미지 0과 이미지33의 유사도:  8.575254\n",
      "이미지 0과 이미지36의 유사도:  8.601712\n",
      "이미지 0과 이미지39의 유사도:  8.111301\n",
      "이미지 0과 이미지42의 유사도:  6.89789\n",
      "이미지 0과 이미지45의 유사도:  7.7649775\n",
      "이미지 0과 이미지48의 유사도:  6.391959\n",
      "이미지 51과 이미지51의 유사도:  0.0\n",
      "이미지 51과 이미지54의 유사도:  4.323801\n",
      "이미지 51과 이미지57의 유사도:  6.2583613\n",
      "이미지 51과 이미지60의 유사도:  7.0508337\n",
      "이미지 51과 이미지63의 유사도:  7.126091\n",
      "이미지 51과 이미지66의 유사도:  7.2546396\n",
      "이미지 51과 이미지69의 유사도:  8.405846\n",
      "이미지 51과 이미지72의 유사도:  9.008657\n",
      "이미지 51과 이미지75의 유사도:  9.02006\n",
      "이미지 51과 이미지78의 유사도:  9.209371\n",
      "이미지 51과 이미지81의 유사도:  8.922848\n",
      "이미지 51과 이미지84의 유사도:  9.827128\n",
      "이미지 51과 이미지87의 유사도:  10.099656\n",
      "이미지 51과 이미지90의 유사도:  10.586247\n",
      "이미지 51과 이미지93의 유사도:  10.573925\n",
      "이미지 51과 이미지96의 유사도:  10.408243\n",
      "이미지 51과 이미지99의 유사도:  10.490481\n",
      "이미지 101과 이미지101의 유사도:  0.0\n",
      "이미지 101과 이미지104의 유사도:  2.9889047\n",
      "이미지 101과 이미지107의 유사도:  3.8204803\n",
      "이미지 101과 이미지110의 유사도:  4.435484\n",
      "이미지 101과 이미지113의 유사도:  4.4998584\n",
      "이미지 101과 이미지116의 유사도:  5.7076573\n",
      "이미지 101과 이미지119의 유사도:  5.91837\n",
      "이미지 101과 이미지122의 유사도:  4.2728577\n",
      "이미지 101과 이미지125의 유사도:  4.079573\n",
      "이미지 101과 이미지128의 유사도:  4.440642\n",
      "이미지 101과 이미지131의 유사도:  4.5541534\n",
      "이미지 101과 이미지134의 유사도:  5.171067\n",
      "이미지 101과 이미지137의 유사도:  5.2031765\n",
      "이미지 101과 이미지140의 유사도:  5.5370555\n",
      "이미지 101과 이미지143의 유사도:  5.974006\n",
      "이미지 101과 이미지146의 유사도:  5.4660296\n",
      "이미지 101과 이미지149의 유사도:  6.2869105\n"
     ]
    }
   ],
   "source": [
    "def dist(x,y):   \n",
    "    return np.sqrt(np.sum((x-y)**2))\n",
    "\n",
    "print('이미지 Apple과 이미지 Banana의 유사도 :',dist(image_feature[0], image_feature[70]))\n",
    "print('이미지 Apple과 이미지 Orange의 유사도 :',dist(image_feature[0], image_feature[120]))\n",
    "print('이미지 Banana과 이미지 Orange의 유사도 :',dist(image_feature[70], image_feature[120]))\n",
    "\n",
    "for i in range(0,51,3):\n",
    "    print(f\"이미지 0과 이미지{i}의 유사도: \", dist(image_feature[0], image_feature[i]))\n",
    "for i in range(51,101,3):\n",
    "    print(f\"이미지 51과 이미지{i}의 유사도: \", dist(image_feature[51], image_feature[i]))\n",
    "for i in range(101,151,3):\n",
    "    print(f\"이미지 101과 이미지{i}의 유사도: \", dist(image_feature[101], image_feature[i]))"
   ]
  },
  {
   "cell_type": "code",
   "execution_count": 96,
   "metadata": {},
   "outputs": [
    {
     "name": "stdout",
     "output_type": "stream",
     "text": [
      "이미지 0과 이미지0의 유사도:  0.0\n",
      "이미지 0과 이미지3의 유사도:  8.933057\n",
      "이미지 0과 이미지6의 유사도:  9.452997\n",
      "이미지 0과 이미지9의 유사도:  8.844806\n",
      "이미지 0과 이미지12의 유사도:  9.390461\n",
      "이미지 0과 이미지15의 유사도:  8.515563\n",
      "이미지 0과 이미지18의 유사도:  8.060381\n",
      "이미지 0과 이미지21의 유사도:  9.663267\n",
      "이미지 0과 이미지24의 유사도:  9.8217535\n",
      "이미지 0과 이미지27의 유사도:  9.437764\n",
      "이미지 0과 이미지30의 유사도:  8.668101\n",
      "이미지 0과 이미지33의 유사도:  8.575254\n",
      "이미지 0과 이미지36의 유사도:  8.601712\n",
      "이미지 0과 이미지39의 유사도:  8.111301\n",
      "이미지 0과 이미지42의 유사도:  6.89789\n",
      "이미지 0과 이미지45의 유사도:  7.7649775\n",
      "이미지 0과 이미지48의 유사도:  6.391959\n",
      "이미지 0과 이미지51의 유사도:  23.131495\n",
      "이미지 0과 이미지54의 유사도:  23.440649\n",
      "이미지 0과 이미지57의 유사도:  24.813145\n",
      "이미지 0과 이미지60의 유사도:  25.14465\n",
      "이미지 0과 이미지63의 유사도:  24.637486\n",
      "이미지 0과 이미지66의 유사도:  23.960596\n",
      "이미지 0과 이미지69의 유사도:  24.049171\n",
      "이미지 0과 이미지72의 유사도:  24.488514\n",
      "이미지 0과 이미지75의 유사도:  24.509539\n",
      "이미지 0과 이미지78의 유사도:  24.3452\n",
      "이미지 0과 이미지81의 유사도:  24.129282\n",
      "이미지 0과 이미지84의 유사도:  23.935518\n",
      "이미지 0과 이미지87의 유사도:  23.746853\n",
      "이미지 0과 이미지90의 유사도:  23.493929\n",
      "이미지 0과 이미지93의 유사도:  23.465174\n",
      "이미지 0과 이미지96의 유사도:  23.656588\n",
      "이미지 0과 이미지99의 유사도:  23.279545\n",
      "이미지 0과 이미지102의 유사도:  13.837099\n",
      "이미지 0과 이미지105의 유사도:  13.846087\n",
      "이미지 0과 이미지108의 유사도:  13.020638\n",
      "이미지 0과 이미지111의 유사도:  13.636218\n",
      "이미지 0과 이미지114의 유사도:  14.198051\n",
      "이미지 0과 이미지117의 유사도:  14.047443\n",
      "이미지 0과 이미지120의 유사도:  14.124025\n",
      "이미지 0과 이미지123의 유사도:  13.774077\n",
      "이미지 0과 이미지126의 유사도:  13.89245\n",
      "이미지 0과 이미지129의 유사도:  14.180563\n",
      "이미지 0과 이미지132의 유사도:  14.0669775\n",
      "이미지 0과 이미지135의 유사도:  13.931612\n",
      "이미지 0과 이미지138의 유사도:  14.343178\n",
      "이미지 0과 이미지141의 유사도:  13.405964\n",
      "이미지 0과 이미지144의 유사도:  13.292631\n",
      "이미지 0과 이미지147의 유사도:  14.044902\n",
      "이미지 0과 이미지150의 유사도:  13.440936\n"
     ]
    }
   ],
   "source": [
    "for i in range(0,151,3):\n",
    "    print(f\"이미지 0과 이미지{i}의 유사도: \", dist(image_feature[0], image_feature[i]))"
   ]
  },
  {
   "cell_type": "code",
   "execution_count": 94,
   "metadata": {},
   "outputs": [
    {
     "name": "stdout",
     "output_type": "stream",
     "text": [
      "이미지 Apple과 이미지 Banana의 유사도 : 0.58199346\n",
      "이미지 Apple과 이미지 Orange의 유사도 : 0.8360955\n",
      "이미지 Banana과 이미지 Orange의 유사도 : 0.62526345\n",
      "이미지 0과 이미지0의 유사도:  1.0\n",
      "이미지 0과 이미지3의 유사도:  0.9328306\n",
      "이미지 0과 이미지6의 유사도:  0.9247097\n",
      "이미지 0과 이미지9의 유사도:  0.9346431\n",
      "이미지 0과 이미지12의 유사도:  0.9281582\n",
      "이미지 0과 이미지15의 유사도:  0.93919414\n",
      "이미지 0과 이미지18의 유사도:  0.9458791\n",
      "이미지 0과 이미지21의 유사도:  0.9209718\n",
      "이미지 0과 이미지24의 유사도:  0.91952854\n",
      "이미지 0과 이미지27의 유사도:  0.9254374\n",
      "이미지 0과 이미지30의 유사도:  0.93706554\n",
      "이미지 0과 이미지33의 유사도:  0.9382729\n",
      "이미지 0과 이미지36의 유사도:  0.93817073\n",
      "이미지 0과 이미지39의 유사도:  0.94522434\n",
      "이미지 0과 이미지42의 유사도:  0.9606841\n",
      "이미지 0과 이미지45의 유사도:  0.95001465\n",
      "이미지 0과 이미지48의 유사도:  0.9662134\n",
      "이미지 51과 이미지51의 유사도:  1.0000001\n",
      "이미지 51과 이미지54의 유사도:  0.98861533\n",
      "이미지 51과 이미지57의 유사도:  0.97767603\n",
      "이미지 51과 이미지60의 유사도:  0.97181624\n",
      "이미지 51과 이미지63의 유사도:  0.9696083\n",
      "이미지 51과 이미지66의 유사도:  0.9676105\n",
      "이미지 51과 이미지69의 유사도:  0.9567154\n",
      "이미지 51과 이미지72의 유사도:  0.9502097\n",
      "이미지 51과 이미지75의 유사도:  0.9499401\n",
      "이미지 51과 이미지78의 유사도:  0.94746137\n",
      "이미지 51과 이미지81의 유사도:  0.9505641\n",
      "이미지 51과 이미지84의 유사도:  0.93970245\n",
      "이미지 51과 이미지87의 유사도:  0.9362553\n",
      "이미지 51과 이미지90의 유사도:  0.92973155\n",
      "이미지 51과 이미지93의 유사도:  0.9300589\n",
      "이미지 51과 이미지96의 유사도:  0.9321715\n",
      "이미지 51과 이미지99의 유사도:  0.9309897\n",
      "이미지 101과 이미지101의 유사도:  1.0\n",
      "이미지 101과 이미지104의 유사도:  0.9945527\n",
      "이미지 101과 이미지107의 유사도:  0.9881693\n",
      "이미지 101과 이미지110의 유사도:  0.9835804\n",
      "이미지 101과 이미지113의 유사도:  0.9834734\n",
      "이미지 101과 이미지116의 유사도:  0.9754777\n",
      "이미지 101과 이미지119의 유사도:  0.9743555\n",
      "이미지 101과 이미지122의 유사도:  0.9875693\n",
      "이미지 101과 이미지125의 유사도:  0.98698467\n",
      "이미지 101과 이미지128의 유사도:  0.98469275\n",
      "이미지 101과 이미지131의 유사도:  0.9828568\n",
      "이미지 101과 이미지134의 유사도:  0.9778477\n",
      "이미지 101과 이미지137의 유사도:  0.9780558\n",
      "이미지 101과 이미지140의 유사도:  0.9773962\n",
      "이미지 101과 이미지143의 유사도:  0.9727331\n",
      "이미지 101과 이미지146의 유사도:  0.97491366\n",
      "이미지 101과 이미지149의 유사도:  0.96898055\n"
     ]
    }
   ],
   "source": [
    "from numpy import dot\n",
    "from numpy.linalg import norm\n",
    "\n",
    "def cos_sim(A, B):\n",
    "  return dot(A, B)/(norm(A)*norm(B))\n",
    "\n",
    "print('이미지 Apple과 이미지 Banana의 유사도 :',cos_sim(image_feature[0], image_feature[70]))\n",
    "print('이미지 Apple과 이미지 Orange의 유사도 :',cos_sim(image_feature[0], image_feature[120]))\n",
    "print('이미지 Banana과 이미지 Orange의 유사도 :',cos_sim(image_feature[70], image_feature[120]))\n",
    "\n",
    "for i in range(0,51,3):\n",
    "    print(f\"이미지 0과 이미지{i}의 유사도: \", cos_sim(image_feature[0], image_feature[i]))\n",
    "for i in range(51,101,3):\n",
    "    print(f\"이미지 51과 이미지{i}의 유사도: \", cos_sim(image_feature[51], image_feature[i]))\n",
    "for i in range(101,151,3):\n",
    "    print(f\"이미지 101과 이미지{i}의 유사도: \", cos_sim(image_feature[101], image_feature[i]))"
   ]
  },
  {
   "cell_type": "code",
   "execution_count": 97,
   "metadata": {},
   "outputs": [
    {
     "name": "stdout",
     "output_type": "stream",
     "text": [
      "이미지 0과 이미지0의 유사도:  1.0\n",
      "이미지 0과 이미지3의 유사도:  0.9328306\n",
      "이미지 0과 이미지6의 유사도:  0.9247097\n",
      "이미지 0과 이미지9의 유사도:  0.9346431\n",
      "이미지 0과 이미지12의 유사도:  0.9281582\n",
      "이미지 0과 이미지15의 유사도:  0.93919414\n",
      "이미지 0과 이미지18의 유사도:  0.9458791\n",
      "이미지 0과 이미지21의 유사도:  0.9209718\n",
      "이미지 0과 이미지24의 유사도:  0.91952854\n",
      "이미지 0과 이미지27의 유사도:  0.9254374\n",
      "이미지 0과 이미지30의 유사도:  0.93706554\n",
      "이미지 0과 이미지33의 유사도:  0.9382729\n",
      "이미지 0과 이미지36의 유사도:  0.93817073\n",
      "이미지 0과 이미지39의 유사도:  0.94522434\n",
      "이미지 0과 이미지42의 유사도:  0.9606841\n",
      "이미지 0과 이미지45의 유사도:  0.95001465\n",
      "이미지 0과 이미지48의 유사도:  0.9662134\n",
      "이미지 0과 이미지51의 유사도:  0.63534784\n",
      "이미지 0과 이미지54의 유사도:  0.620083\n",
      "이미지 0과 이미지57의 유사도:  0.5990733\n",
      "이미지 0과 이미지60의 유사도:  0.59074146\n",
      "이미지 0과 이미지63의 유사도:  0.5906803\n",
      "이미지 0과 이미지66의 유사도:  0.59204453\n",
      "이미지 0과 이미지69의 유사도:  0.59743047\n",
      "이미지 0과 이미지72의 유사도:  0.58128875\n",
      "이미지 0과 이미지75의 유사도:  0.5780913\n",
      "이미지 0과 이미지78의 유사도:  0.576604\n",
      "이미지 0과 이미지81의 유사도:  0.5747493\n",
      "이미지 0과 이미지84의 유사도:  0.5767736\n",
      "이미지 0과 이미지87의 유사도:  0.57481974\n",
      "이미지 0과 이미지90의 유사도:  0.5800117\n",
      "이미지 0과 이미지93의 유사도:  0.57642114\n",
      "이미지 0과 이미지96의 유사도:  0.5750751\n",
      "이미지 0과 이미지99의 유사도:  0.59152675\n",
      "이미지 0과 이미지102의 유사도:  0.8434711\n",
      "이미지 0과 이미지105의 유사도:  0.8509541\n",
      "이미지 0과 이미지108의 유사도:  0.86049014\n",
      "이미지 0과 이미지111의 유사도:  0.8489834\n",
      "이미지 0과 이미지114의 유사도:  0.842265\n",
      "이미지 0과 이미지117의 유사도:  0.84536266\n",
      "이미지 0과 이미지120의 유사도:  0.8360955\n",
      "이미지 0과 이미지123의 유사도:  0.84714586\n",
      "이미지 0과 이미지126의 유사도:  0.849083\n",
      "이미지 0과 이미지129의 유사도:  0.8437375\n",
      "이미지 0과 이미지132의 유사도:  0.8356216\n",
      "이미지 0과 이미지135의 유사도:  0.8488836\n",
      "이미지 0과 이미지138의 유사도:  0.8434567\n",
      "이미지 0과 이미지141의 유사도:  0.8560233\n",
      "이미지 0과 이미지144의 유사도:  0.86318874\n",
      "이미지 0과 이미지147의 유사도:  0.8478091\n",
      "이미지 0과 이미지150의 유사도:  0.8525643\n"
     ]
    }
   ],
   "source": [
    "for i in range(0,151,3):\n",
    "    print(f\"이미지 0과 이미지{i}의 유사도: \", cos_sim(image_feature[0], image_feature[i]))"
   ]
  }
 ],
 "metadata": {
  "kernelspec": {
   "display_name": "Python 3.7.4 ('base')",
   "language": "python",
   "name": "python3"
  },
  "language_info": {
   "codemirror_mode": {
    "name": "ipython",
    "version": 3
   },
   "file_extension": ".py",
   "mimetype": "text/x-python",
   "name": "python",
   "nbconvert_exporter": "python",
   "pygments_lexer": "ipython3",
   "version": "3.7.4"
  },
  "orig_nbformat": 4,
  "vscode": {
   "interpreter": {
    "hash": "4df46fc34630bdaae25e6131402fef2105433f741d7fdc8fc5ce5b5e32a9fd24"
   }
  }
 },
 "nbformat": 4,
 "nbformat_minor": 2
}
